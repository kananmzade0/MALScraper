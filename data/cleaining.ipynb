{
 "cells": [
  {
   "cell_type": "markdown",
   "metadata": {},
   "source": [
    "# Importing `pandas`"
   ]
  },
  {
   "cell_type": "code",
   "execution_count": 1,
   "metadata": {},
   "outputs": [],
   "source": [
    "import pandas as pd"
   ]
  },
  {
   "cell_type": "markdown",
   "metadata": {},
   "source": [
    "# Reading Data and checking for anomalies"
   ]
  },
  {
   "cell_type": "code",
   "execution_count": 2,
   "metadata": {},
   "outputs": [
    {
     "name": "stdout",
     "output_type": "stream",
     "text": [
      "Full anime data (df1) has size of (28209, 23).\n",
      "Anime links data (df2) has size of (28210, 4).\n",
      "Merged table (df_merged) has a size of (28210, 24).\n"
     ]
    }
   ],
   "source": [
    "df1 = pd.read_json(\"anime_full_details.json\")\n",
    "df2 = pd.read_json(\"anime_list.json\")\n",
    "df_merged = pd.merge(left=df1, right=df2, how='right', on=['title', 'link'], suffixes=(None,'_y')) \n",
    "# Joining by two columns, titles and links might be duplicated separately but not when used together\n",
    "df_merged = df_merged.drop('score_y', axis=1)\n",
    "print(f\"Full anime data (df1) has size of {df1.shape}.\")\n",
    "print(f\"Anime links data (df2) has size of {df2.shape}.\")\n",
    "print(f\"Merged table (df_merged) has a size of {df_merged.shape}.\")"
   ]
  },
  {
   "cell_type": "markdown",
   "metadata": {},
   "source": [
    "\n",
    "`keep=False` allows to see all instances of duplication for better analysis. \n",
    "Apparently during the scraping process, this title below was scraped twice.\n"
   ]
  },
  {
   "cell_type": "code",
   "execution_count": 3,
   "metadata": {},
   "outputs": [
    {
     "data": {
      "text/html": [
       "<div>\n",
       "<style scoped>\n",
       "    .dataframe tbody tr th:only-of-type {\n",
       "        vertical-align: middle;\n",
       "    }\n",
       "\n",
       "    .dataframe tbody tr th {\n",
       "        vertical-align: top;\n",
       "    }\n",
       "\n",
       "    .dataframe thead th {\n",
       "        text-align: right;\n",
       "    }\n",
       "</style>\n",
       "<table border=\"1\" class=\"dataframe\">\n",
       "  <thead>\n",
       "    <tr style=\"text-align: right;\">\n",
       "      <th></th>\n",
       "      <th>title</th>\n",
       "      <th>synopsis</th>\n",
       "      <th>type</th>\n",
       "      <th>episodes</th>\n",
       "      <th>status</th>\n",
       "      <th>aired</th>\n",
       "      <th>premiered</th>\n",
       "      <th>broadcast</th>\n",
       "      <th>producers</th>\n",
       "      <th>licensors</th>\n",
       "      <th>...</th>\n",
       "      <th>themes</th>\n",
       "      <th>duration</th>\n",
       "      <th>rating</th>\n",
       "      <th>score</th>\n",
       "      <th>ranked</th>\n",
       "      <th>popularity</th>\n",
       "      <th>members</th>\n",
       "      <th>favorites</th>\n",
       "      <th>link</th>\n",
       "      <th>rank</th>\n",
       "    </tr>\n",
       "  </thead>\n",
       "  <tbody>\n",
       "    <tr>\n",
       "      <th>549</th>\n",
       "      <td>Zankyou no Terror</td>\n",
       "      <td>Painted in red, the word \"VON\" is all that is ...</td>\n",
       "      <td>TV</td>\n",
       "      <td>\\n  11\\n</td>\n",
       "      <td>\\n  Finished Airing\\n</td>\n",
       "      <td>\\n  Jul 11, 2014 to Sep 26, 2014\\n</td>\n",
       "      <td>Summer 2014</td>\n",
       "      <td>[\\n    Fridays at 00:50 (JST)\\n      ]</td>\n",
       "      <td>[Aniplex, Dentsu, Fuji TV, Tohokushinsha Film ...</td>\n",
       "      <td>[Funimation]</td>\n",
       "      <td>...</td>\n",
       "      <td>[]</td>\n",
       "      <td>\\n  22 min. per ep.\\n</td>\n",
       "      <td>\\n  R - 17+ (violence &amp; profanity)\\n</td>\n",
       "      <td>8.08</td>\n",
       "      <td>\\n  #551</td>\n",
       "      <td>\\n  #122\\n</td>\n",
       "      <td>\\n    1,220,926\\n</td>\n",
       "      <td>\\n  22,796\\n</td>\n",
       "      <td>https://myanimelist.net/anime/23283/Zankyou_no...</td>\n",
       "      <td>550</td>\n",
       "    </tr>\n",
       "    <tr>\n",
       "      <th>550</th>\n",
       "      <td>Zankyou no Terror</td>\n",
       "      <td>Painted in red, the word \"VON\" is all that is ...</td>\n",
       "      <td>TV</td>\n",
       "      <td>\\n  11\\n</td>\n",
       "      <td>\\n  Finished Airing\\n</td>\n",
       "      <td>\\n  Jul 11, 2014 to Sep 26, 2014\\n</td>\n",
       "      <td>Summer 2014</td>\n",
       "      <td>[\\n    Fridays at 00:50 (JST)\\n      ]</td>\n",
       "      <td>[Aniplex, Dentsu, Fuji TV, Tohokushinsha Film ...</td>\n",
       "      <td>[Funimation]</td>\n",
       "      <td>...</td>\n",
       "      <td>[]</td>\n",
       "      <td>\\n  22 min. per ep.\\n</td>\n",
       "      <td>\\n  R - 17+ (violence &amp; profanity)\\n</td>\n",
       "      <td>8.08</td>\n",
       "      <td>\\n  #551</td>\n",
       "      <td>\\n  #122\\n</td>\n",
       "      <td>\\n    1,220,926\\n</td>\n",
       "      <td>\\n  22,796\\n</td>\n",
       "      <td>https://myanimelist.net/anime/23283/Zankyou_no...</td>\n",
       "      <td>551</td>\n",
       "    </tr>\n",
       "  </tbody>\n",
       "</table>\n",
       "<p>2 rows × 24 columns</p>\n",
       "</div>"
      ],
      "text/plain": [
       "                 title                                           synopsis  \\\n",
       "549  Zankyou no Terror  Painted in red, the word \"VON\" is all that is ...   \n",
       "550  Zankyou no Terror  Painted in red, the word \"VON\" is all that is ...   \n",
       "\n",
       "    type    episodes                   status  \\\n",
       "549   TV  \\n  11\\n    \\n  Finished Airing\\n     \n",
       "550   TV  \\n  11\\n    \\n  Finished Airing\\n     \n",
       "\n",
       "                                    aired    premiered  \\\n",
       "549  \\n  Jul 11, 2014 to Sep 26, 2014\\n    Summer 2014   \n",
       "550  \\n  Jul 11, 2014 to Sep 26, 2014\\n    Summer 2014   \n",
       "\n",
       "                                  broadcast  \\\n",
       "549  [\\n    Fridays at 00:50 (JST)\\n      ]   \n",
       "550  [\\n    Fridays at 00:50 (JST)\\n      ]   \n",
       "\n",
       "                                             producers     licensors  ...  \\\n",
       "549  [Aniplex, Dentsu, Fuji TV, Tohokushinsha Film ...  [Funimation]  ...   \n",
       "550  [Aniplex, Dentsu, Fuji TV, Tohokushinsha Film ...  [Funimation]  ...   \n",
       "\n",
       "    themes                 duration                                  rating  \\\n",
       "549     []  \\n  22 min. per ep.\\n    \\n  R - 17+ (violence & profanity)\\n     \n",
       "550     []  \\n  22 min. per ep.\\n    \\n  R - 17+ (violence & profanity)\\n     \n",
       "\n",
       "    score    ranked  popularity            members     favorites  \\\n",
       "549  8.08  \\n  #551  \\n  #122\\n  \\n    1,220,926\\n  \\n  22,796\\n   \n",
       "550  8.08  \\n  #551  \\n  #122\\n  \\n    1,220,926\\n  \\n  22,796\\n   \n",
       "\n",
       "                                                  link rank  \n",
       "549  https://myanimelist.net/anime/23283/Zankyou_no...  550  \n",
       "550  https://myanimelist.net/anime/23283/Zankyou_no...  551  \n",
       "\n",
       "[2 rows x 24 columns]"
      ]
     },
     "execution_count": 3,
     "metadata": {},
     "output_type": "execute_result"
    }
   ],
   "source": [
    "df_merged[df_merged['link'].duplicated(keep=False)]"
   ]
  },
  {
   "cell_type": "markdown",
   "metadata": {},
   "source": [
    "Let's observe the `df_merged` again, but with dropped duplicates this time."
   ]
  },
  {
   "cell_type": "code",
   "execution_count": 4,
   "metadata": {},
   "outputs": [
    {
     "name": "stdout",
     "output_type": "stream",
     "text": [
      "Full anime data (df1) has size of (28209, 23).\n",
      "Anime links data (df2) has size of (28210, 4).\n",
      "Merged table (df_merged) has a size of (28210, 24).\n",
      "Merged table (df_merged) after dropping duplicates has a size of (28209, 24).\n"
     ]
    }
   ],
   "source": [
    "print(f\"Full anime data (df1) has size of {df1.shape}.\")\n",
    "print(f\"Anime links data (df2) has size of {df2.shape}.\")\n",
    "print(f\"Merged table (df_merged) has a size of {df_merged.shape}.\")\n",
    "\n",
    "df_merged = df_merged.drop_duplicates(subset=['title', 'link'])\n",
    "\n",
    "print(f\"Merged table (df_merged) after dropping duplicates has a size of {df_merged.shape}.\")"
   ]
  },
  {
   "cell_type": "markdown",
   "metadata": {},
   "source": [
    "As we can see here, duplication was removed, which makes `df_merged` more consistent with anime links data `df2`."
   ]
  },
  {
   "cell_type": "markdown",
   "metadata": {},
   "source": [
    "# Cleaning"
   ]
  },
  {
   "cell_type": "markdown",
   "metadata": {},
   "source": [
    "Let's see the very first title to scale cleaning technique to entire dataframe"
   ]
  },
  {
   "cell_type": "code",
   "execution_count": 5,
   "metadata": {},
   "outputs": [
    {
     "data": {
      "text/html": [
       "<div>\n",
       "<style scoped>\n",
       "    .dataframe tbody tr th:only-of-type {\n",
       "        vertical-align: middle;\n",
       "    }\n",
       "\n",
       "    .dataframe tbody tr th {\n",
       "        vertical-align: top;\n",
       "    }\n",
       "\n",
       "    .dataframe thead th {\n",
       "        text-align: right;\n",
       "    }\n",
       "</style>\n",
       "<table border=\"1\" class=\"dataframe\">\n",
       "  <thead>\n",
       "    <tr style=\"text-align: right;\">\n",
       "      <th></th>\n",
       "      <th>title</th>\n",
       "      <th>synopsis</th>\n",
       "      <th>type</th>\n",
       "      <th>episodes</th>\n",
       "      <th>status</th>\n",
       "      <th>aired</th>\n",
       "      <th>premiered</th>\n",
       "      <th>broadcast</th>\n",
       "      <th>producers</th>\n",
       "      <th>licensors</th>\n",
       "      <th>...</th>\n",
       "      <th>themes</th>\n",
       "      <th>duration</th>\n",
       "      <th>rating</th>\n",
       "      <th>score</th>\n",
       "      <th>ranked</th>\n",
       "      <th>popularity</th>\n",
       "      <th>members</th>\n",
       "      <th>favorites</th>\n",
       "      <th>link</th>\n",
       "      <th>rank</th>\n",
       "    </tr>\n",
       "  </thead>\n",
       "  <tbody>\n",
       "    <tr>\n",
       "      <th>0</th>\n",
       "      <td>Sousou no Frieren</td>\n",
       "      <td>During their decade-long quest to defeat the D...</td>\n",
       "      <td>TV</td>\n",
       "      <td>\\n  28\\n</td>\n",
       "      <td>\\n  Finished Airing\\n</td>\n",
       "      <td>\\n  Sep 29, 2023 to Mar 22, 2024\\n</td>\n",
       "      <td>Fall 2023</td>\n",
       "      <td>[\\n    Fridays at 23:00 (JST)\\n      ]</td>\n",
       "      <td>[Aniplex, Dentsu, Shogakukan-Shueisha Producti...</td>\n",
       "      <td>[Crunchyroll]</td>\n",
       "      <td>...</td>\n",
       "      <td>[]</td>\n",
       "      <td>\\n  24 min. per ep.\\n</td>\n",
       "      <td>\\n  PG-13 - Teens 13 or older\\n</td>\n",
       "      <td>9.31</td>\n",
       "      <td>\\n  #1</td>\n",
       "      <td>\\n  #157\\n</td>\n",
       "      <td>\\n    1,060,746\\n</td>\n",
       "      <td>\\n  65,118\\n</td>\n",
       "      <td>https://myanimelist.net/anime/52991/Sousou_no_...</td>\n",
       "      <td>1</td>\n",
       "    </tr>\n",
       "  </tbody>\n",
       "</table>\n",
       "<p>1 rows × 24 columns</p>\n",
       "</div>"
      ],
      "text/plain": [
       "               title                                           synopsis type  \\\n",
       "0  Sousou no Frieren  During their decade-long quest to defeat the D...   TV   \n",
       "\n",
       "     episodes                   status                                 aired  \\\n",
       "0  \\n  28\\n    \\n  Finished Airing\\n    \\n  Sep 29, 2023 to Mar 22, 2024\\n     \n",
       "\n",
       "   premiered                               broadcast  \\\n",
       "0  Fall 2023  [\\n    Fridays at 23:00 (JST)\\n      ]   \n",
       "\n",
       "                                           producers      licensors  ...  \\\n",
       "0  [Aniplex, Dentsu, Shogakukan-Shueisha Producti...  [Crunchyroll]  ...   \n",
       "\n",
       "  themes                 duration                             rating score  \\\n",
       "0     []  \\n  24 min. per ep.\\n    \\n  PG-13 - Teens 13 or older\\n    9.31   \n",
       "\n",
       "   ranked  popularity            members     favorites  \\\n",
       "0  \\n  #1  \\n  #157\\n  \\n    1,060,746\\n  \\n  65,118\\n   \n",
       "\n",
       "                                                link rank  \n",
       "0  https://myanimelist.net/anime/52991/Sousou_no_...    1  \n",
       "\n",
       "[1 rows x 24 columns]"
      ]
     },
     "execution_count": 5,
     "metadata": {},
     "output_type": "execute_result"
    }
   ],
   "source": [
    "df_merged.head(1)"
   ]
  },
  {
   "cell_type": "code",
   "execution_count": 6,
   "metadata": {},
   "outputs": [
    {
     "data": {
      "text/html": [
       "<div>\n",
       "<style scoped>\n",
       "    .dataframe tbody tr th:only-of-type {\n",
       "        vertical-align: middle;\n",
       "    }\n",
       "\n",
       "    .dataframe tbody tr th {\n",
       "        vertical-align: top;\n",
       "    }\n",
       "\n",
       "    .dataframe thead th {\n",
       "        text-align: right;\n",
       "    }\n",
       "</style>\n",
       "<table border=\"1\" class=\"dataframe\">\n",
       "  <thead>\n",
       "    <tr style=\"text-align: right;\">\n",
       "      <th></th>\n",
       "      <th>0</th>\n",
       "    </tr>\n",
       "  </thead>\n",
       "  <tbody>\n",
       "    <tr>\n",
       "      <th>title</th>\n",
       "      <td>Sousou no Frieren</td>\n",
       "    </tr>\n",
       "    <tr>\n",
       "      <th>synopsis</th>\n",
       "      <td>During their decade-long quest to defeat the D...</td>\n",
       "    </tr>\n",
       "    <tr>\n",
       "      <th>type</th>\n",
       "      <td>TV</td>\n",
       "    </tr>\n",
       "    <tr>\n",
       "      <th>episodes</th>\n",
       "      <td>\\n  28\\n</td>\n",
       "    </tr>\n",
       "    <tr>\n",
       "      <th>status</th>\n",
       "      <td>\\n  Finished Airing\\n</td>\n",
       "    </tr>\n",
       "    <tr>\n",
       "      <th>aired</th>\n",
       "      <td>\\n  Sep 29, 2023 to Mar 22, 2024\\n</td>\n",
       "    </tr>\n",
       "    <tr>\n",
       "      <th>premiered</th>\n",
       "      <td>Fall 2023</td>\n",
       "    </tr>\n",
       "    <tr>\n",
       "      <th>broadcast</th>\n",
       "      <td>[\\n    Fridays at 23:00 (JST)\\n      ]</td>\n",
       "    </tr>\n",
       "    <tr>\n",
       "      <th>producers</th>\n",
       "      <td>[Aniplex, Dentsu, Shogakukan-Shueisha Producti...</td>\n",
       "    </tr>\n",
       "    <tr>\n",
       "      <th>licensors</th>\n",
       "      <td>[Crunchyroll]</td>\n",
       "    </tr>\n",
       "    <tr>\n",
       "      <th>studios</th>\n",
       "      <td>[Madhouse]</td>\n",
       "    </tr>\n",
       "    <tr>\n",
       "      <th>source</th>\n",
       "      <td>\\n      Manga\\n</td>\n",
       "    </tr>\n",
       "    <tr>\n",
       "      <th>genres</th>\n",
       "      <td>[Adventure, Drama, Fantasy]</td>\n",
       "    </tr>\n",
       "    <tr>\n",
       "      <th>demographic</th>\n",
       "      <td>[Shounen]</td>\n",
       "    </tr>\n",
       "    <tr>\n",
       "      <th>themes</th>\n",
       "      <td>[]</td>\n",
       "    </tr>\n",
       "    <tr>\n",
       "      <th>duration</th>\n",
       "      <td>\\n  24 min. per ep.\\n</td>\n",
       "    </tr>\n",
       "    <tr>\n",
       "      <th>rating</th>\n",
       "      <td>\\n  PG-13 - Teens 13 or older\\n</td>\n",
       "    </tr>\n",
       "    <tr>\n",
       "      <th>score</th>\n",
       "      <td>9.31</td>\n",
       "    </tr>\n",
       "    <tr>\n",
       "      <th>ranked</th>\n",
       "      <td>\\n  #1</td>\n",
       "    </tr>\n",
       "    <tr>\n",
       "      <th>popularity</th>\n",
       "      <td>\\n  #157\\n</td>\n",
       "    </tr>\n",
       "    <tr>\n",
       "      <th>members</th>\n",
       "      <td>\\n    1,060,746\\n</td>\n",
       "    </tr>\n",
       "    <tr>\n",
       "      <th>favorites</th>\n",
       "      <td>\\n  65,118\\n</td>\n",
       "    </tr>\n",
       "    <tr>\n",
       "      <th>link</th>\n",
       "      <td>https://myanimelist.net/anime/52991/Sousou_no_...</td>\n",
       "    </tr>\n",
       "    <tr>\n",
       "      <th>rank</th>\n",
       "      <td>1</td>\n",
       "    </tr>\n",
       "  </tbody>\n",
       "</table>\n",
       "</div>"
      ],
      "text/plain": [
       "                                                             0\n",
       "title                                        Sousou no Frieren\n",
       "synopsis     During their decade-long quest to defeat the D...\n",
       "type                                                        TV\n",
       "episodes                                            \\n  28\\n  \n",
       "status                                 \\n  Finished Airing\\n  \n",
       "aired                     \\n  Sep 29, 2023 to Mar 22, 2024\\n  \n",
       "premiered                                            Fall 2023\n",
       "broadcast               [\\n    Fridays at 23:00 (JST)\\n      ]\n",
       "producers    [Aniplex, Dentsu, Shogakukan-Shueisha Producti...\n",
       "licensors                                        [Crunchyroll]\n",
       "studios                                             [Madhouse]\n",
       "source                                     \\n      Manga\\n    \n",
       "genres                             [Adventure, Drama, Fantasy]\n",
       "demographic                                          [Shounen]\n",
       "themes                                                      []\n",
       "duration                               \\n  24 min. per ep.\\n  \n",
       "rating                       \\n  PG-13 - Teens 13 or older\\n  \n",
       "score                                                     9.31\n",
       "ranked                                                  \\n  #1\n",
       "popularity                                          \\n  #157\\n\n",
       "members                                      \\n    1,060,746\\n\n",
       "favorites                                         \\n  65,118\\n\n",
       "link         https://myanimelist.net/anime/52991/Sousou_no_...\n",
       "rank                                                         1"
      ]
     },
     "execution_count": 6,
     "metadata": {},
     "output_type": "execute_result"
    }
   ],
   "source": [
    "df_merged.head(1).T # Transpose for better visibility"
   ]
  },
  {
   "cell_type": "markdown",
   "metadata": {},
   "source": [
    "- I can see that `broadcast` column was scraped as list. This tells me that the original scraper logic had `.getall()` method. Replaced with `.get()` for the next time.\n",
    "\n",
    "- I can see a lot of `\\n`s. Let's use `.apply` method to replace those."
   ]
  },
  {
   "cell_type": "markdown",
   "metadata": {},
   "source": [
    "## Clean the `broadcast` column"
   ]
  },
  {
   "cell_type": "code",
   "execution_count": 7,
   "metadata": {},
   "outputs": [],
   "source": [
    "df_merged['broadcast'] = df_merged['broadcast'].explode()"
   ]
  },
  {
   "cell_type": "markdown",
   "metadata": {},
   "source": [
    "## Clean the `\\n`s from the data."
   ]
  },
  {
   "cell_type": "code",
   "execution_count": 8,
   "metadata": {},
   "outputs": [
    {
     "data": {
      "text/html": [
       "<div>\n",
       "<style scoped>\n",
       "    .dataframe tbody tr th:only-of-type {\n",
       "        vertical-align: middle;\n",
       "    }\n",
       "\n",
       "    .dataframe tbody tr th {\n",
       "        vertical-align: top;\n",
       "    }\n",
       "\n",
       "    .dataframe thead th {\n",
       "        text-align: right;\n",
       "    }\n",
       "</style>\n",
       "<table border=\"1\" class=\"dataframe\">\n",
       "  <thead>\n",
       "    <tr style=\"text-align: right;\">\n",
       "      <th></th>\n",
       "      <th>title</th>\n",
       "      <th>synopsis</th>\n",
       "      <th>type</th>\n",
       "      <th>episodes</th>\n",
       "      <th>status</th>\n",
       "      <th>aired</th>\n",
       "      <th>premiered</th>\n",
       "      <th>broadcast</th>\n",
       "      <th>producers</th>\n",
       "      <th>licensors</th>\n",
       "      <th>...</th>\n",
       "      <th>themes</th>\n",
       "      <th>duration</th>\n",
       "      <th>rating</th>\n",
       "      <th>score</th>\n",
       "      <th>ranked</th>\n",
       "      <th>popularity</th>\n",
       "      <th>members</th>\n",
       "      <th>favorites</th>\n",
       "      <th>link</th>\n",
       "      <th>rank</th>\n",
       "    </tr>\n",
       "  </thead>\n",
       "  <tbody>\n",
       "    <tr>\n",
       "      <th>0</th>\n",
       "      <td>Sousou no Frieren</td>\n",
       "      <td>During their decade-long quest to defeat the D...</td>\n",
       "      <td>TV</td>\n",
       "      <td>28</td>\n",
       "      <td>Finished Airing</td>\n",
       "      <td>Sep 29, 2023 to Mar 22, 2024</td>\n",
       "      <td>Fall 2023</td>\n",
       "      <td>Fridays at 23:00 (JST)</td>\n",
       "      <td>[Aniplex, Dentsu, Shogakukan-Shueisha Producti...</td>\n",
       "      <td>[Crunchyroll]</td>\n",
       "      <td>...</td>\n",
       "      <td>[]</td>\n",
       "      <td>24 min. per ep.</td>\n",
       "      <td>PG-13 - Teens 13 or older</td>\n",
       "      <td>9.31</td>\n",
       "      <td>#1</td>\n",
       "      <td>#157</td>\n",
       "      <td>1,060,746</td>\n",
       "      <td>65,118</td>\n",
       "      <td>https://myanimelist.net/anime/52991/Sousou_no_...</td>\n",
       "      <td>1</td>\n",
       "    </tr>\n",
       "  </tbody>\n",
       "</table>\n",
       "<p>1 rows × 24 columns</p>\n",
       "</div>"
      ],
      "text/plain": [
       "               title                                           synopsis type  \\\n",
       "0  Sousou no Frieren  During their decade-long quest to defeat the D...   TV   \n",
       "\n",
       "  episodes               status                             aired  premiered  \\\n",
       "0     28      Finished Airing      Sep 29, 2023 to Mar 22, 2024    Fall 2023   \n",
       "\n",
       "                          broadcast  \\\n",
       "0      Fridays at 23:00 (JST)         \n",
       "\n",
       "                                           producers      licensors  ...  \\\n",
       "0  [Aniplex, Dentsu, Shogakukan-Shueisha Producti...  [Crunchyroll]  ...   \n",
       "\n",
       "  themes             duration                         rating score ranked  \\\n",
       "0     []    24 min. per ep.      PG-13 - Teens 13 or older    9.31     #1   \n",
       "\n",
       "  popularity        members  favorites  \\\n",
       "0       #157      1,060,746     65,118   \n",
       "\n",
       "                                                link rank  \n",
       "0  https://myanimelist.net/anime/52991/Sousou_no_...    1  \n",
       "\n",
       "[1 rows x 24 columns]"
      ]
     },
     "execution_count": 8,
     "metadata": {},
     "output_type": "execute_result"
    }
   ],
   "source": [
    "for i in df_merged.columns:\n",
    "    df_merged[i] = df_merged[i].apply(lambda x: x.replace(\"\\n\", \"\") if isinstance(x, str) else x)\n",
    "df_merged.head()"
   ]
  },
  {
   "cell_type": "markdown",
   "metadata": {},
   "source": [
    "Looks clean. Now we can proceed with further analysis of the data."
   ]
  },
  {
   "cell_type": "markdown",
   "metadata": {},
   "source": [
    "# Finding missing values"
   ]
  },
  {
   "cell_type": "code",
   "execution_count": 11,
   "metadata": {},
   "outputs": [
    {
     "data": {
      "text/plain": [
       "title              0\n",
       "synopsis         665\n",
       "type            5155\n",
       "episodes         665\n",
       "status           665\n",
       "aired            665\n",
       "premiered      22281\n",
       "broadcast      20159\n",
       "producers        665\n",
       "licensors        665\n",
       "studios          665\n",
       "source         20987\n",
       "genres           665\n",
       "demographic      665\n",
       "themes           665\n",
       "duration         665\n",
       "rating           665\n",
       "score          10526\n",
       "ranked           665\n",
       "popularity       665\n",
       "members          665\n",
       "favorites        665\n",
       "link               0\n",
       "rank               0\n",
       "dtype: int64"
      ]
     },
     "execution_count": 11,
     "metadata": {},
     "output_type": "execute_result"
    }
   ],
   "source": [
    "df_merged.isna().sum()"
   ]
  },
  {
   "cell_type": "markdown",
   "metadata": {},
   "source": [
    "TODO: 665 appears too often. Figure out what that data is. "
   ]
  }
 ],
 "metadata": {
  "kernelspec": {
   "display_name": "Python 3 (ipykernel)",
   "language": "python",
   "name": "python3"
  },
  "language_info": {
   "codemirror_mode": {
    "name": "ipython",
    "version": 3
   },
   "file_extension": ".py",
   "mimetype": "text/x-python",
   "name": "python",
   "nbconvert_exporter": "python",
   "pygments_lexer": "ipython3",
   "version": "3.12.3"
  }
 },
 "nbformat": 4,
 "nbformat_minor": 4
}
